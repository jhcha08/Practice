{
 "cells": [
  {
   "cell_type": "code",
   "execution_count": 1,
   "id": "3ee283b0",
   "metadata": {},
   "outputs": [],
   "source": [
    "import cv2\n",
    "import numpy as np\n",
    "import torch\n",
    "\n",
    "tensor = np.random.rand(16,3,120,120)\n",
    "tensor = torch.from_numpy(tensor)\n",
    "\n",
    "zero = []\n",
    "rgb_weights = [0.2989, 0.5870, 0.1140]\n",
    "tensor_original = (tensor.numpy())*255\n",
    "\n",
    "for i in range(len(tensor)):\n",
    "    tensor_original_0 = np.transpose(tensor_original[i], (1,2,0))\n",
    "    grayscale_tensor_0 = (np.dot(tensor_original_0[...,:3], rgb_weights)).astype(np.uint8)\n",
    "\n",
    "    canny = cv2.Canny(grayscale_tensor_0, 30, 70)\n",
    "    canny = np.expand_dims(canny, axis=-1)\n",
    "\n",
    "    concat = np.concatenate((tensor_original_0, canny), axis=-1)\n",
    "    concat = np.transpose(concat, (2,0,1))\n",
    "\n",
    "    zero.append(concat)\n",
    "\n",
    "zero_np = np.array(zero).reshape(len(tensor), -1, tensor.shape[2], tensor.shape[3])\n",
    "input = torch.from_numpy(zero_np)"
   ]
  },
  {
   "cell_type": "code",
   "execution_count": 3,
   "id": "be8c0918",
   "metadata": {},
   "outputs": [
    {
     "data": {
      "text/plain": [
       "torch.Size([16, 4, 120, 120])"
      ]
     },
     "execution_count": 3,
     "metadata": {},
     "output_type": "execute_result"
    }
   ],
   "source": [
    "np.shape(input)"
   ]
  }
 ],
 "metadata": {
  "kernelspec": {
   "display_name": "Python 3",
   "language": "python",
   "name": "python3"
  },
  "language_info": {
   "codemirror_mode": {
    "name": "ipython",
    "version": 3
   },
   "file_extension": ".py",
   "mimetype": "text/x-python",
   "name": "python",
   "nbconvert_exporter": "python",
   "pygments_lexer": "ipython3",
   "version": "3.8.8"
  }
 },
 "nbformat": 4,
 "nbformat_minor": 5
}
