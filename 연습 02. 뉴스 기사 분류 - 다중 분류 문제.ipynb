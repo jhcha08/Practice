{
 "cells": [
  {
   "cell_type": "code",
   "execution_count": 1,
   "metadata": {},
   "outputs": [
    {
     "name": "stderr",
     "output_type": "stream",
     "text": [
      "Using TensorFlow backend.\n"
     ]
    }
   ],
   "source": [
    "# 로이터 데이터셋 로드\n",
    "\n",
    "from keras.datasets import reuters\n",
    "\n",
    "# 가장 자주 등장하는 단어 1만개로 제한\n",
    "\n",
    "(train_data, train_labels), (test_data, test_labels) = reuters.load_data(num_words=10000)"
   ]
  },
  {
   "cell_type": "code",
   "execution_count": 2,
   "metadata": {},
   "outputs": [
    {
     "name": "stdout",
     "output_type": "stream",
     "text": [
      "8982\n",
      "2246\n"
     ]
    },
    {
     "data": {
      "text/plain": [
       "[1,\n",
       " 245,\n",
       " 273,\n",
       " 207,\n",
       " 156,\n",
       " 53,\n",
       " 74,\n",
       " 160,\n",
       " 26,\n",
       " 14,\n",
       " 46,\n",
       " 296,\n",
       " 26,\n",
       " 39,\n",
       " 74,\n",
       " 2979,\n",
       " 3554,\n",
       " 14,\n",
       " 46,\n",
       " 4689,\n",
       " 4329,\n",
       " 86,\n",
       " 61,\n",
       " 3499,\n",
       " 4795,\n",
       " 14,\n",
       " 61,\n",
       " 451,\n",
       " 4329,\n",
       " 17,\n",
       " 12]"
      ]
     },
     "execution_count": 2,
     "metadata": {},
     "output_type": "execute_result"
    }
   ],
   "source": [
    "print(len(train_data)) # 훈련 데이터 갯수\n",
    "print(len(test_data)) # 테스트 데이터 갯수\n",
    "\n",
    "train_data[10] # 각 샘플은 정수 리스트"
   ]
  },
  {
   "cell_type": "code",
   "execution_count": 5,
   "metadata": {},
   "outputs": [],
   "source": [
    "# 뉴스 샘플들을 벡터로 인코딩\n",
    "\n",
    "import numpy as np\n",
    "\n",
    "def vectorize_sequences(sequences, dimension=10000):\n",
    "    results = np.zeros((len(sequences),dimension)) # 크기가 (len(sequences),dimension)이고 모든 원소가 0으로 채워진 2차원 행렬 만들어줌\n",
    "    for i, sequence in enumerate(sequences): \n",
    "        results[i, sequence] = 1. # result[i]에서 특정 인덱스의 위치를 1로 만듬\n",
    "    return results\n",
    "\n",
    "# x: 뉴스의 목록, 각 뉴스는 단어 인덱스의 리스트\n",
    "\n",
    "x_train = vectorize_sequences(train_data) # 각 데이터들을 벡터로 변환\n",
    "x_test = vectorize_sequences(test_data)"
   ]
  },
  {
   "cell_type": "code",
   "execution_count": 3,
   "metadata": {},
   "outputs": [],
   "source": [
    "# 토픽들을 벡터 형태로 인코딩 (케라스 내장 함수 이용해 원핫 인코딩)\n",
    "\n",
    "from keras.utils.np_utils import to_categorical\n",
    "\n",
    "one_hot_train_labels = to_categorical(train_labels)\n",
    "one_hot_test_labels = to_categorical(test_labels)"
   ]
  },
  {
   "cell_type": "code",
   "execution_count": 6,
   "metadata": {},
   "outputs": [],
   "source": [
    "# 모델 정의하기\n",
    "\n",
    "from keras import models\n",
    "from keras import layers\n",
    "\n",
    "model = models.Sequential()\n",
    "model.add(layers.Dense(64, activation='relu', input_shape=(10000,)))\n",
    "model.add(layers.Dense(64, activation='relu'))\n",
    "model.add(layers.Dense(46, activation='softmax'))\n",
    "\n",
    "# 모델 컴파일하기\n",
    "\n",
    "model.compile(optimizer='rmsprop',loss='categorical_crossentropy',metrics=['accuracy'])\n",
    "\n",
    "# 검증 세트 준비 - 훈련 데이터에서 1000개의 샘플을 뗴어 검증 세트로 사용\n",
    "\n",
    "# 단순 훈련데이터\n",
    "x_val = x_train[:1000]\n",
    "partial_x_train = x_train[1000:]\n",
    "\n",
    "# 토픽 데이터들을 벡터로 인코딩한 것\n",
    "y_val = one_hot_train_labels[:1000]\n",
    "partial_y_train = one_hot_train_labels[1000:]"
   ]
  },
  {
   "cell_type": "code",
   "execution_count": 7,
   "metadata": {},
   "outputs": [
    {
     "name": "stdout",
     "output_type": "stream",
     "text": [
      "Train on 7982 samples, validate on 1000 samples\n",
      "Epoch 1/20\n",
      "7982/7982 [==============================] - 2s 294us/step - loss: 2.6534 - accuracy: 0.4907 - val_loss: 1.7440 - val_accuracy: 0.6430\n",
      "Epoch 2/20\n",
      "7982/7982 [==============================] - 2s 229us/step - loss: 1.4150 - accuracy: 0.7046 - val_loss: 1.2809 - val_accuracy: 0.7300\n",
      "Epoch 3/20\n",
      "7982/7982 [==============================] - 2s 226us/step - loss: 1.0389 - accuracy: 0.7769 - val_loss: 1.1086 - val_accuracy: 0.7640\n",
      "Epoch 4/20\n",
      "7982/7982 [==============================] - 2s 225us/step - loss: 0.8154 - accuracy: 0.8309 - val_loss: 1.0284 - val_accuracy: 0.7860\n",
      "Epoch 5/20\n",
      "7982/7982 [==============================] - 2s 238us/step - loss: 0.6526 - accuracy: 0.8671 - val_loss: 0.9454 - val_accuracy: 0.7990\n",
      "Epoch 6/20\n",
      "7982/7982 [==============================] - 2s 236us/step - loss: 0.5203 - accuracy: 0.8926 - val_loss: 0.9051 - val_accuracy: 0.8130\n",
      "Epoch 7/20\n",
      "7982/7982 [==============================] - 2s 237us/step - loss: 0.4251 - accuracy: 0.9118 - val_loss: 0.8926 - val_accuracy: 0.8120\n",
      "Epoch 8/20\n",
      "7982/7982 [==============================] - 2s 243us/step - loss: 0.3478 - accuracy: 0.9260 - val_loss: 0.8652 - val_accuracy: 0.8180\n",
      "Epoch 9/20\n",
      "7982/7982 [==============================] - 2s 233us/step - loss: 0.2867 - accuracy: 0.9361 - val_loss: 0.8832 - val_accuracy: 0.8180\n",
      "Epoch 10/20\n",
      "7982/7982 [==============================] - 2s 234us/step - loss: 0.2434 - accuracy: 0.9425 - val_loss: 0.9050 - val_accuracy: 0.8250\n",
      "Epoch 11/20\n",
      "7982/7982 [==============================] - 2s 250us/step - loss: 0.2100 - accuracy: 0.9485 - val_loss: 0.9422 - val_accuracy: 0.8060\n",
      "Epoch 12/20\n",
      "7982/7982 [==============================] - 2s 241us/step - loss: 0.1887 - accuracy: 0.9514 - val_loss: 0.9102 - val_accuracy: 0.8200\n",
      "Epoch 13/20\n",
      "7982/7982 [==============================] - 2s 252us/step - loss: 0.1684 - accuracy: 0.9536 - val_loss: 0.9214 - val_accuracy: 0.8160\n",
      "Epoch 14/20\n",
      "7982/7982 [==============================] - 2s 231us/step - loss: 0.1548 - accuracy: 0.9538 - val_loss: 1.0428 - val_accuracy: 0.8000\n",
      "Epoch 15/20\n",
      "7982/7982 [==============================] - 2s 234us/step - loss: 0.1426 - accuracy: 0.9551 - val_loss: 0.9655 - val_accuracy: 0.8190\n",
      "Epoch 16/20\n",
      "7982/7982 [==============================] - 2s 239us/step - loss: 0.1317 - accuracy: 0.9559 - val_loss: 1.0371 - val_accuracy: 0.8030\n",
      "Epoch 17/20\n",
      "7982/7982 [==============================] - 2s 231us/step - loss: 0.1278 - accuracy: 0.9565 - val_loss: 1.0211 - val_accuracy: 0.8080\n",
      "Epoch 18/20\n",
      "7982/7982 [==============================] - 2s 228us/step - loss: 0.1219 - accuracy: 0.9559 - val_loss: 1.0435 - val_accuracy: 0.8140\n",
      "Epoch 19/20\n",
      "7982/7982 [==============================] - 2s 229us/step - loss: 0.1169 - accuracy: 0.9562 - val_loss: 1.0802 - val_accuracy: 0.8150\n",
      "Epoch 20/20\n",
      "7982/7982 [==============================] - 2s 231us/step - loss: 0.1143 - accuracy: 0.9573 - val_loss: 1.0230 - val_accuracy: 0.8170\n"
     ]
    }
   ],
   "source": [
    "# 모델 훈련하기\n",
    "\n",
    "hist = model.fit(partial_x_train, partial_y_train, epochs=20, batch_size=512, validation_data=(x_val,y_val))"
   ]
  },
  {
   "cell_type": "code",
   "execution_count": 9,
   "metadata": {},
   "outputs": [
    {
     "data": {
      "image/png": "[encoded data removed]",
      "text/plain": [
       "<Figure size 432x288 with 1 Axes>"
      ]
     },
     "metadata": {
      "needs_background": "light"
     },
     "output_type": "display_data"
    }
   ],
   "source": [
    "# 훈련과 검증 손실 그래프\n",
    "\n",
    "import matplotlib.pyplot as plt\n",
    "\n",
    "loss = hist.history['loss']\n",
    "val_loss = hist.history['val_loss']\n",
    "\n",
    "epochs = range(1, len(loss)+1)\n",
    "\n",
    "plt.plot(epochs, loss, 'bo', label='Training loss')\n",
    "plt.plot(epochs, val_loss, 'b', label='Validation loss')\n",
    "plt.title('Training and validation loss')\n",
    "plt.xlabel('Epochs')\n",
    "plt.ylabel('Loss')\n",
    "plt.legend()\n",
    "\n",
    "plt.show()"
   ]
  },
  {
   "cell_type": "code",
   "execution_count": 11,
   "metadata": {},
   "outputs": [
    {
     "data": {
      "image/png": "[encoded data removed]",
      "text/plain": [
       "<Figure size 432x288 with 1 Axes>"
      ]
     },
     "metadata": {
      "needs_background": "light"
     },
     "output_type": "display_data"
    }
   ],
   "source": [
    "# 훈련과 검증 정확도 그리기\n",
    "\n",
    "plt.clf() # 그래프 초기화\n",
    "\n",
    "acc = hist.history['accuracy']\n",
    "val_acc = hist.history['val_accuracy']\n",
    "\n",
    "plt.plot(epochs,acc,'bo',label='Trainig acc')\n",
    "plt.plot(epochs,val_acc,'b',label='Validation acc')\n",
    "plt.title('Training and Validation accuracy')\n",
    "plt.xlabel('Epochs')\n",
    "plt.ylabel('Accuracy')\n",
    "plt.legend()\n",
    "\n",
    "plt.show()"
   ]
  },
  {
   "cell_type": "code",
   "execution_count": 15,
   "metadata": {},
   "outputs": [
    {
     "name": "stdout",
     "output_type": "stream",
     "text": [
      "Train on 7982 samples, validate on 1000 samples\n",
      "Epoch 1/9\n",
      "7982/7982 [==============================] - 2s 275us/step - loss: 2.6768 - accuracy: 0.5144 - val_loss: 1.7890 - val_accuracy: 0.6430\n",
      "Epoch 2/9\n",
      "7982/7982 [==============================] - 2s 235us/step - loss: 1.4337 - accuracy: 0.6989 - val_loss: 1.3217 - val_accuracy: 0.7100\n",
      "Epoch 3/9\n",
      "7982/7982 [==============================] - 2s 224us/step - loss: 1.0592 - accuracy: 0.7661 - val_loss: 1.1359 - val_accuracy: 0.7490\n",
      "Epoch 4/9\n",
      "7982/7982 [==============================] - 2s 228us/step - loss: 0.8301 - accuracy: 0.8230 - val_loss: 1.0424 - val_accuracy: 0.7750\n",
      "Epoch 5/9\n",
      "7982/7982 [==============================] - 2s 229us/step - loss: 0.6582 - accuracy: 0.8649 - val_loss: 0.9673 - val_accuracy: 0.7970\n",
      "Epoch 6/9\n",
      "7982/7982 [==============================] - 2s 237us/step - loss: 0.5289 - accuracy: 0.8913 - val_loss: 0.9583 - val_accuracy: 0.8090\n",
      "Epoch 7/9\n",
      "7982/7982 [==============================] - 2s 234us/step - loss: 0.4258 - accuracy: 0.9117 - val_loss: 0.9105 - val_accuracy: 0.8080\n",
      "Epoch 8/9\n",
      "7982/7982 [==============================] - 2s 228us/step - loss: 0.3464 - accuracy: 0.9285 - val_loss: 0.8924 - val_accuracy: 0.8130\n",
      "Epoch 9/9\n",
      "7982/7982 [==============================] - 2s 228us/step - loss: 0.2875 - accuracy: 0.9386 - val_loss: 0.9006 - val_accuracy: 0.8120\n",
      "2246/2246 [==============================] - 1s 240us/step\n",
      "[0.9714280667309239, 0.7822796106338501]\n"
     ]
    }
   ],
   "source": [
    "# 9번째부터 과대적합 일어나므로 9번까지만 훈련하는 새로운 모델 훈련 & 평가\n",
    "\n",
    "from keras import models\n",
    "from keras import layers\n",
    "\n",
    "model = models.Sequential()\n",
    "model.add(layers.Dense(64, activation='relu', input_shape=(10000,)))\n",
    "model.add(layers.Dense(64, activation='relu'))\n",
    "model.add(layers.Dense(46, activation='softmax'))\n",
    "\n",
    "# 모델 컴파일하기\n",
    "\n",
    "model.compile(optimizer='rmsprop',loss='categorical_crossentropy',metrics=['accuracy'])\n",
    "\n",
    "# 모델 훈련하기\n",
    "\n",
    "model.fit(partial_x_train, partial_y_train, epochs=9, batch_size=512, validation_data=(x_val,y_val))\n",
    "\n",
    "# 모델 평가하기\n",
    "\n",
    "results = model.evaluate(x_test, one_hot_test_labels)\n",
    "print(results) # 약 78%의 정확도"
   ]
  },
  {
   "cell_type": "code",
   "execution_count": 16,
   "metadata": {},
   "outputs": [
    {
     "name": "stdout",
     "output_type": "stream",
     "text": [
      "(46,)\n",
      "1.0000001\n",
      "3\n"
     ]
    }
   ],
   "source": [
    "# 새로운 데이터에 대해 예측하기\n",
    "\n",
    "pred = model.predict(x_test)\n",
    "\n",
    "print(pred[0].shape) # pred의 각 항목은 길이가 46인 벡터\n",
    "print(np.sum(pred[0])) # 이 벡터의 원소의 합은 1\n",
    "print(np.argmax(pred[0])) # 가장 큰 값이 예측 클래스가 된다 - 즉 확률이 가장 높은 클래스"
   ]
  },
  {
   "cell_type": "code",
   "execution_count": null,
   "metadata": {},
   "outputs": [],
   "source": []
  }
 ],
 "metadata": {
  "kernelspec": {
   "display_name": "Python 3",
   "language": "python",
   "name": "python3"
  },
  "language_info": {
   "codemirror_mode": {
    "name": "ipython",
    "version": 3
   },
   "file_extension": ".py",
   "mimetype": "text/x-python",
   "name": "python",
   "nbconvert_exporter": "python",
   "pygments_lexer": "ipython3",
   "version": "3.7.4"
  }
 },
 "nbformat": 4,
 "nbformat_minor": 2
}
