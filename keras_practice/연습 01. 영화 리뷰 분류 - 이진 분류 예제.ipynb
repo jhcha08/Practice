{
 "cells": [
  {
   "cell_type": "code",
   "execution_count": 3,
   "metadata": {},
   "outputs": [],
   "source": [
    "# imdb 데이터셋 로드하기\n",
    "\n",
    "from keras.datasets import imdb\n",
    "\n",
    "(train_data, train_labels), (test_data, test_labels) = imdb.load_data(num_words=10000)"
   ]
  },
  {
   "cell_type": "code",
   "execution_count": 2,
   "metadata": {},
   "outputs": [
    {
     "ename": "NameError",
     "evalue": "name 'train_data' is not defined",
     "output_type": "error",
     "traceback": [
      "\u001b[1;31m---------------------------------------------------------------------------\u001b[0m",
      "\u001b[1;31mNameError\u001b[0m                                 Traceback (most recent call last)",
      "\u001b[1;32m<ipython-input-2-3c7f1803c82c>\u001b[0m in \u001b[0;36m<module>\u001b[1;34m\u001b[0m\n\u001b[0;32m     11\u001b[0m \u001b[1;31m# x: 리뷰의 목록, 각 리뷰는 단어 인덱스의 리스트\u001b[0m\u001b[1;33m\u001b[0m\u001b[1;33m\u001b[0m\u001b[1;33m\u001b[0m\u001b[0m\n\u001b[0;32m     12\u001b[0m \u001b[1;33m\u001b[0m\u001b[0m\n\u001b[1;32m---> 13\u001b[1;33m \u001b[0mx_train\u001b[0m \u001b[1;33m=\u001b[0m \u001b[0mvectorize_sequences\u001b[0m\u001b[1;33m(\u001b[0m\u001b[0mtrain_data\u001b[0m\u001b[1;33m)\u001b[0m \u001b[1;31m# 각 데이터들을 벡터로 변환\u001b[0m\u001b[1;33m\u001b[0m\u001b[1;33m\u001b[0m\u001b[0m\n\u001b[0m\u001b[0;32m     14\u001b[0m \u001b[0mx_test\u001b[0m \u001b[1;33m=\u001b[0m \u001b[0mvectorize_sequences\u001b[0m\u001b[1;33m(\u001b[0m\u001b[0mtest_data\u001b[0m\u001b[1;33m)\u001b[0m\u001b[1;33m\u001b[0m\u001b[1;33m\u001b[0m\u001b[0m\n\u001b[0;32m     15\u001b[0m \u001b[1;33m\u001b[0m\u001b[0m\n",
      "\u001b[1;31mNameError\u001b[0m: name 'train_data' is not defined"
     ]
    }
   ],
   "source": [
    "# 정수 시퀀스를 이진 행렬로 인코딩하기 (훈련데이터 25000개, 빈도 많은 단어 10000개)\n",
    "\n",
    "import numpy as np\n",
    "\n",
    "def vectorize_sequences(sequences, dimension=10000):\n",
    "    results = np.zeros((len(sequences),dimension)) # 크기가 (len(sequences),dimension)이고 모든 원소가 0으로 채워진 2차원 행렬 만들어줌\n",
    "    for i, sequence in enumerate(sequences): \n",
    "        results[i, sequence] = 1. # result[i]에서 특정 인덱스의 위치를 1로 만듬\n",
    "    return results\n",
    "\n",
    "# x: 리뷰의 목록, 각 리뷰는 단어 인덱스의 리스트\n",
    "\n",
    "x_train = vectorize_sequences(train_data) # 각 데이터들을 벡터로 변환\n",
    "x_test = vectorize_sequences(test_data)\n",
    "\n",
    "# y: 부정을 나타내는 0과 긍정을 나타내는 1의 리스트\n",
    "\n",
    "y_train = np.asarray(train_labels).astype('float32') # np.array와 비슷하게 행렬을 만들어주지만 참조본이 아니라 복사본을 만들어줌\n",
    "y_test = np.asarray(test_labels).astype('float32')"
   ]
  },
  {
   "cell_type": "code",
   "execution_count": 1,
   "metadata": {},
   "outputs": [
    {
     "ename": "NameError",
     "evalue": "name 'np' is not defined",
     "output_type": "error",
     "traceback": [
      "\u001b[1;31m---------------------------------------------------------------------------\u001b[0m",
      "\u001b[1;31mNameError\u001b[0m                                 Traceback (most recent call last)",
      "\u001b[1;32m<ipython-input-1-d2170389590b>\u001b[0m in \u001b[0;36m<module>\u001b[1;34m\u001b[0m\n\u001b[0;32m      4\u001b[0m \u001b[1;33m\u001b[0m\u001b[0m\n\u001b[0;32m      5\u001b[0m \u001b[0mdimension\u001b[0m \u001b[1;33m=\u001b[0m \u001b[1;36m4\u001b[0m\u001b[1;33m\u001b[0m\u001b[1;33m\u001b[0m\u001b[0m\n\u001b[1;32m----> 6\u001b[1;33m \u001b[0mresults\u001b[0m \u001b[1;33m=\u001b[0m \u001b[0mnp\u001b[0m\u001b[1;33m.\u001b[0m\u001b[0mzeros\u001b[0m\u001b[1;33m(\u001b[0m\u001b[1;33m(\u001b[0m\u001b[0mlen\u001b[0m\u001b[1;33m(\u001b[0m\u001b[0mfruits\u001b[0m\u001b[1;33m)\u001b[0m\u001b[1;33m,\u001b[0m\u001b[0mdimension\u001b[0m\u001b[1;33m)\u001b[0m\u001b[1;33m)\u001b[0m\u001b[1;33m\u001b[0m\u001b[1;33m\u001b[0m\u001b[0m\n\u001b[0m\u001b[0;32m      7\u001b[0m \u001b[0mprint\u001b[0m\u001b[1;33m(\u001b[0m\u001b[0mresults\u001b[0m\u001b[1;33m)\u001b[0m\u001b[1;33m\u001b[0m\u001b[1;33m\u001b[0m\u001b[0m\n\u001b[0;32m      8\u001b[0m \u001b[1;33m\u001b[0m\u001b[0m\n",
      "\u001b[1;31mNameError\u001b[0m: name 'np' is not defined"
     ]
    }
   ],
   "source": [
    "# enumerate 연습 - 리스트 안의 원소들에 대해 인덱스 번호와 원소를 순서대로 반환해줌\n",
    "\n",
    "fruits = ['strawberry', 'banana', 'melon', 'grape', 'peach']\n",
    "\n",
    "dimension = 4\n",
    "results = np.zeros((len(fruits),dimension))\n",
    "print(results)\n",
    "\n",
    "for index, value in enumerate(fruits):\n",
    "    print(index, value)\n",
    "    \n",
    "for i, v in enumerate(nums):\n",
    "    print(i,v)"
   ]
  },
  {
   "cell_type": "code",
   "execution_count": 23,
   "metadata": {},
   "outputs": [],
   "source": [
    "from keras import models\n",
    "from keras import layers"
   ]
  },
  {
   "cell_type": "code",
   "execution_count": 24,
   "metadata": {},
   "outputs": [
    {
     "name": "stdout",
     "output_type": "stream",
     "text": [
      "Train on 15000 samples, validate on 10000 samples\n",
      "Epoch 1/20\n",
      "15000/15000 [==============================] - 4s 277us/step - loss: 0.4885 - accuracy: 0.8020 - val_loss: 0.3725 - val_accuracy: 0.8648\n",
      "Epoch 2/20\n",
      "15000/15000 [==============================] - 4s 252us/step - loss: 0.2844 - accuracy: 0.9073 - val_loss: 0.3093 - val_accuracy: 0.8753\n",
      "Epoch 3/20\n",
      "15000/15000 [==============================] - 3s 230us/step - loss: 0.1985 - accuracy: 0.9369 - val_loss: 0.2698 - val_accuracy: 0.8915\n",
      "Epoch 4/20\n",
      "15000/15000 [==============================] - 3s 227us/step - loss: 0.1525 - accuracy: 0.9507 - val_loss: 0.2775 - val_accuracy: 0.8907\n",
      "Epoch 5/20\n",
      "15000/15000 [==============================] - 4s 235us/step - loss: 0.1152 - accuracy: 0.9629 - val_loss: 0.3012 - val_accuracy: 0.8838\n",
      "Epoch 6/20\n",
      "15000/15000 [==============================] - 4s 234us/step - loss: 0.0906 - accuracy: 0.9714 - val_loss: 0.3349 - val_accuracy: 0.8816\n",
      "Epoch 7/20\n",
      "15000/15000 [==============================] - 3s 229us/step - loss: 0.0708 - accuracy: 0.9778 - val_loss: 0.4355 - val_accuracy: 0.8600\n",
      "Epoch 8/20\n",
      "15000/15000 [==============================] - 4s 238us/step - loss: 0.0537 - accuracy: 0.9842 - val_loss: 0.4289 - val_accuracy: 0.8736\n",
      "Epoch 9/20\n",
      "15000/15000 [==============================] - 4s 239us/step - loss: 0.0429 - accuracy: 0.9882 - val_loss: 0.4998 - val_accuracy: 0.8658\n",
      "Epoch 10/20\n",
      "15000/15000 [==============================] - 3s 233us/step - loss: 0.0365 - accuracy: 0.9887 - val_loss: 0.5006 - val_accuracy: 0.8685\n",
      "Epoch 11/20\n",
      "15000/15000 [==============================] - 3s 232us/step - loss: 0.0228 - accuracy: 0.9940 - val_loss: 0.5717 - val_accuracy: 0.8618\n",
      "Epoch 12/20\n",
      "15000/15000 [==============================] - 4s 234us/step - loss: 0.0241 - accuracy: 0.9933 - val_loss: 0.5805 - val_accuracy: 0.8676\n",
      "Epoch 13/20\n",
      "15000/15000 [==============================] - 3s 233us/step - loss: 0.0084 - accuracy: 0.9990 - val_loss: 0.6280 - val_accuracy: 0.8628\n",
      "Epoch 14/20\n",
      "15000/15000 [==============================] - 3s 230us/step - loss: 0.0193 - accuracy: 0.9945 - val_loss: 0.6506 - val_accuracy: 0.8653\n",
      "Epoch 15/20\n",
      "15000/15000 [==============================] - 4s 237us/step - loss: 0.0034 - accuracy: 0.9997 - val_loss: 0.7033 - val_accuracy: 0.8649\n",
      "Epoch 16/20\n",
      "15000/15000 [==============================] - 4s 235us/step - loss: 0.0158 - accuracy: 0.9948 - val_loss: 0.7280 - val_accuracy: 0.8613\n",
      "Epoch 17/20\n",
      "15000/15000 [==============================] - 4s 234us/step - loss: 0.0014 - accuracy: 0.9999 - val_loss: 0.7632 - val_accuracy: 0.8595\n",
      "Epoch 18/20\n",
      "15000/15000 [==============================] - 3s 231us/step - loss: 0.0102 - accuracy: 0.9971 - val_loss: 0.8468 - val_accuracy: 0.8533\n",
      "Epoch 19/20\n",
      "15000/15000 [==============================] - 4s 240us/step - loss: 0.0012 - accuracy: 0.9999 - val_loss: 0.8286 - val_accuracy: 0.8588\n",
      "Epoch 20/20\n",
      "15000/15000 [==============================] - 5s 310us/step - loss: 4.8424e-04 - accuracy: 1.0000 - val_loss: 0.8530 - val_accuracy: 0.8576\n",
      "15000/15000 [==============================] - 4s 240us/step\n",
      "[0.000314357032518213, 1.0]\n",
      "[[4.0143728e-05]\n",
      " [5.1230192e-05]\n",
      " [2.5361776e-05]\n",
      " ...\n",
      " [2.7954578e-05]\n",
      " [9.9996960e-01]\n",
      " [9.7924471e-04]]\n"
     ]
    }
   ],
   "source": [
    "# 모델 정의하기\n",
    "\n",
    "model = models.Sequential()\n",
    "model.add(layers.Dense(16, activation = 'tanh', input_shape=(10000,)))\n",
    "model.add(layers.Dense(16, activation = 'tanh'))\n",
    "model.add(layers.Dense(1, activation = 'sigmoid'))\n",
    "\n",
    "# 모델 컴파일 하기\n",
    "\n",
    "model.compile(optimizer='rmsprop', loss='binary_crossentropy', metrics=['accuracy'])\n",
    "\n",
    "# 검증, 테스트 세트 준비하기\n",
    "\n",
    "x_val = x_train[:10000]\n",
    "x_test = x_train[10000:]\n",
    "\n",
    "y_val = y_train[:10000]\n",
    "y_test = y_train[10000:]\n",
    "\n",
    "# 모델 훈련하기 (epoch: 학습 반복 횟수, batch_size: 몇 개의 샘플로 가중치를 갱신할 것인가?)\n",
    "\n",
    "history = model.fit(x_test, y_test, epochs=20, batch_size=512, validation_data=(x_val,y_val))\n",
    "\n",
    "# 최종 결과 (정확도) 보기\n",
    "\n",
    "results = model.evaluate(x_test, y_test)\n",
    "print(results)\n",
    "\n",
    "# 테스트 데이터에 대해서 예측하기\n",
    "\n",
    "print(model.predict(x_test))"
   ]
  },
  {
   "cell_type": "code",
   "execution_count": 17,
   "metadata": {},
   "outputs": [
    {
     "data": {
      "image/png": "[encoded data removed]",
      "text/plain": [
       "<Figure size 432x288 with 1 Axes>"
      ]
     },
     "metadata": {
      "needs_background": "light"
     },
     "output_type": "display_data"
    }
   ],
   "source": [
    "# 훈련과 검증 손실 그리기\n",
    "\n",
    "import matplotlib.pyplot as plt\n",
    "\n",
    "history_dict = history.history\n",
    "loss = history_dict['loss']\n",
    "val_loss = history_dict['val_loss']\n",
    "\n",
    "epochs = range(1,len(loss)+1)\n",
    "\n",
    "plt.plot(epochs,loss,'bo',label='Trainig loss')\n",
    "plt.plot(epochs,val_loss,'b',label='Validation loss')\n",
    "plt.title('Training and Validation loss')\n",
    "plt.xlabel('Epochs')\n",
    "plt.ylabel('Loss')\n",
    "plt.legend()\n",
    "\n",
    "plt.show()"
   ]
  },
  {
   "cell_type": "code",
   "execution_count": 21,
   "metadata": {},
   "outputs": [
    {
     "data": {
      "text/plain": [
       "dict_keys(['val_loss', 'val_accuracy', 'loss', 'accuracy'])"
      ]
     },
     "execution_count": 21,
     "metadata": {},
     "output_type": "execute_result"
    }
   ],
   "source": [
    "# 훈련하는 동안 발생한 모든 정보를 갖고 있는 딕셔너리인 history 속성의 key들을 확인\n",
    "\n",
    "history_dict = history.history\n",
    "history_dict.keys()"
   ]
  },
  {
   "cell_type": "code",
   "execution_count": 22,
   "metadata": {},
   "outputs": [
    {
     "data": {
      "image/png": "[encoded data removed]",
      "text/plain": [
       "<Figure size 432x288 with 1 Axes>"
      ]
     },
     "metadata": {
      "needs_background": "light"
     },
     "output_type": "display_data"
    }
   ],
   "source": [
    "# 훈련과 검증 정확도 그리기\n",
    "\n",
    "plt.clf() # 그래프 초기화\n",
    "history_dict = history.history\n",
    "acc = history_dict['accuracy']\n",
    "val_acc = history_dict['val_accuracy']\n",
    "\n",
    "plt.plot(epochs,acc,'bo',label='Trainig acc')\n",
    "plt.plot(epochs,val_acc,'b',label='Validation acc')\n",
    "plt.title('Training and Validation accuracy')\n",
    "plt.xlabel('Epochs')\n",
    "plt.ylabel('Accuracy')\n",
    "plt.legend()\n",
    "\n",
    "plt.show()"
   ]
  },
  {
   "cell_type": "code",
   "execution_count": null,
   "metadata": {},
   "outputs": [],
   "source": []
  }
 ],
 "metadata": {
  "kernelspec": {
   "display_name": "Python 3",
   "language": "python",
   "name": "python3"
  },
  "language_info": {
   "codemirror_mode": {
    "name": "ipython",
    "version": 3
   },
   "file_extension": ".py",
   "mimetype": "text/x-python",
   "name": "python",
   "nbconvert_exporter": "python",
   "pygments_lexer": "ipython3",
   "version": "3.7.4"
  }
 },
 "nbformat": 4,
 "nbformat_minor": 2
}
